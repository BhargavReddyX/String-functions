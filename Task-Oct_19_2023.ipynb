{
 "cells": [
  {
   "cell_type": "markdown",
   "id": "29646c06",
   "metadata": {},
   "source": [
    "# Python 19/10/2023 DailyTask"
   ]
  },
  {
   "cell_type": "markdown",
   "id": "2b6e18d5",
   "metadata": {},
   "source": [
    "### 1. Mandatory Task"
   ]
  },
  {
   "cell_type": "markdown",
   "id": "128a5373",
   "metadata": {},
   "source": [
    "a) Document today’s class with proper explanation using markdown, comments, examples and code.\n",
    "\n",
    "b) Use help() to understand each parameter of all the string methods that were covered in class so far. Document the same with different examples with proper explanation of what the method does and its parameters."
   ]
  },
  {
   "cell_type": "markdown",
   "id": "603729da",
   "metadata": {},
   "source": [
    "##### String methods using parameters and help()"
   ]
  },
  {
   "cell_type": "markdown",
   "id": "d5507fb7",
   "metadata": {},
   "source": [
    "# find()"
   ]
  },
  {
   "cell_type": "markdown",
   "id": "a484720e",
   "metadata": {},
   "source": [
    "find() is often used with strings, where it searches for a substring within a given string.\n",
    "It can also be used with arrays or lists to search for an element within the array."
   ]
  },
  {
   "cell_type": "markdown",
   "id": "5c12e77b",
   "metadata": {},
   "source": [
    "##### Syntax: \n",
    "    * str.find(sub, start, end)"
   ]
  },
  {
   "cell_type": "code",
   "execution_count": 3,
   "id": "1425d94f",
   "metadata": {},
   "outputs": [
    {
     "name": "stdout",
     "output_type": "stream",
     "text": [
      "Help on method_descriptor:\n",
      "\n",
      "find(...)\n",
      "    S.find(sub[, start[, end]]) -> int\n",
      "    \n",
      "    Return the lowest index in S where substring sub is found,\n",
      "    such that sub is contained within S[start:end].  Optional\n",
      "    arguments start and end are interpreted as in slice notation.\n",
      "    \n",
      "    Return -1 on failure.\n",
      "\n"
     ]
    }
   ],
   "source": [
    "help(str.find)"
   ]
  },
  {
   "cell_type": "code",
   "execution_count": 6,
   "id": "0a6cfdbb",
   "metadata": {},
   "outputs": [
    {
     "data": {
      "text/plain": [
       "'Virat Kohli is the best cricketer in this world'"
      ]
     },
     "execution_count": 6,
     "metadata": {},
     "output_type": "execute_result"
    }
   ],
   "source": [
    "x='Virat Kohli is the best cricketer in this world'\n",
    "x"
   ]
  },
  {
   "cell_type": "code",
   "execution_count": 11,
   "id": "e987de98",
   "metadata": {},
   "outputs": [
    {
     "data": {
      "text/plain": [
       "17"
      ]
     },
     "execution_count": 11,
     "metadata": {},
     "output_type": "execute_result"
    }
   ],
   "source": [
    "x.find('e')"
   ]
  },
  {
   "cell_type": "code",
   "execution_count": 13,
   "id": "d6fce857",
   "metadata": {},
   "outputs": [
    {
     "data": {
      "text/plain": [
       "20"
      ]
     },
     "execution_count": 13,
     "metadata": {},
     "output_type": "execute_result"
    }
   ],
   "source": [
    "x.find('e',20)"
   ]
  },
  {
   "cell_type": "code",
   "execution_count": 18,
   "id": "104b1008",
   "metadata": {},
   "outputs": [
    {
     "data": {
      "text/plain": [
       "-1"
      ]
     },
     "execution_count": 18,
     "metadata": {},
     "output_type": "execute_result"
    }
   ],
   "source": [
    "x.find('e',0,1) #no value found"
   ]
  },
  {
   "cell_type": "markdown",
   "id": "4f9b5db4",
   "metadata": {},
   "source": [
    "# Count ()"
   ]
  },
  {
   "cell_type": "markdown",
   "id": "9b0aaa69",
   "metadata": {},
   "source": [
    "countcount() is often used with strings, lists, or arrays, where it counts the occurrences of a specific element or substring."
   ]
  },
  {
   "cell_type": "markdown",
   "id": "ed4ac1c3",
   "metadata": {},
   "source": [
    "##### syntax:"
   ]
  },
  {
   "cell_type": "markdown",
   "id": "b64370d7",
   "metadata": {},
   "source": [
    " * string.Count(substring, start= …., end= ….)"
   ]
  },
  {
   "cell_type": "code",
   "execution_count": 20,
   "id": "61778cd6",
   "metadata": {},
   "outputs": [
    {
     "name": "stdout",
     "output_type": "stream",
     "text": [
      "Help on method_descriptor:\n",
      "\n",
      "count(...)\n",
      "    S.count(sub[, start[, end]]) -> int\n",
      "    \n",
      "    Return the number of non-overlapping occurrences of substring sub in\n",
      "    string S[start:end].  Optional arguments start and end are\n",
      "    interpreted as in slice notation.\n",
      "\n"
     ]
    }
   ],
   "source": [
    "help(str.count)"
   ]
  },
  {
   "cell_type": "code",
   "execution_count": 21,
   "id": "1044c967",
   "metadata": {},
   "outputs": [
    {
     "data": {
      "text/plain": [
       "4"
      ]
     },
     "execution_count": 21,
     "metadata": {},
     "output_type": "execute_result"
    }
   ],
   "source": [
    "x.count('e')"
   ]
  },
  {
   "cell_type": "code",
   "execution_count": 22,
   "id": "a5885df5",
   "metadata": {},
   "outputs": [
    {
     "data": {
      "text/plain": [
       "6"
      ]
     },
     "execution_count": 22,
     "metadata": {},
     "output_type": "execute_result"
    }
   ],
   "source": [
    "x.count('i')"
   ]
  },
  {
   "cell_type": "markdown",
   "id": "1dd23875",
   "metadata": {},
   "source": [
    "# Rfind()"
   ]
  },
  {
   "cell_type": "markdown",
   "id": "717a2651",
   "metadata": {},
   "source": [
    "rfind() is often used with strings, where it searches for the last occurrence of a substring.\n",
    "It can also be used with arrays or lists to search for the last occurrence of an element within the array."
   ]
  },
  {
   "cell_type": "markdown",
   "id": "8b561aef",
   "metadata": {},
   "source": [
    "##### syntax"
   ]
  },
  {
   "cell_type": "markdown",
   "id": "b6ab8517",
   "metadata": {},
   "source": [
    "* str.rfind(sub, start, end)"
   ]
  },
  {
   "cell_type": "code",
   "execution_count": 23,
   "id": "2e762129",
   "metadata": {},
   "outputs": [
    {
     "name": "stdout",
     "output_type": "stream",
     "text": [
      "Help on method_descriptor:\n",
      "\n",
      "rfind(...)\n",
      "    S.rfind(sub[, start[, end]]) -> int\n",
      "    \n",
      "    Return the highest index in S where substring sub is found,\n",
      "    such that sub is contained within S[start:end].  Optional\n",
      "    arguments start and end are interpreted as in slice notation.\n",
      "    \n",
      "    Return -1 on failure.\n",
      "\n"
     ]
    }
   ],
   "source": [
    "help(str.rfind)"
   ]
  },
  {
   "cell_type": "code",
   "execution_count": 24,
   "id": "964fbf27",
   "metadata": {},
   "outputs": [
    {
     "data": {
      "text/plain": [
       "39"
      ]
     },
     "execution_count": 24,
     "metadata": {},
     "output_type": "execute_result"
    }
   ],
   "source": [
    "x.rfind('i') #right to left"
   ]
  },
  {
   "cell_type": "code",
   "execution_count": 25,
   "id": "6086bd41",
   "metadata": {},
   "outputs": [
    {
     "data": {
      "text/plain": [
       "12"
      ]
     },
     "execution_count": 25,
     "metadata": {},
     "output_type": "execute_result"
    }
   ],
   "source": [
    "x.rfind('i',10,20)"
   ]
  },
  {
   "cell_type": "markdown",
   "id": "5f048489",
   "metadata": {},
   "source": [
    "# Index()"
   ]
  },
  {
   "cell_type": "markdown",
   "id": "998159fe",
   "metadata": {},
   "source": [
    "The index() Method allows a user to find the index of the first occurrence of an existing substring. The index() method raises an exception if the value is not found."
   ]
  },
  {
   "cell_type": "markdown",
   "id": "c653de5f",
   "metadata": {},
   "source": [
    "##### syntax"
   ]
  },
  {
   "cell_type": "markdown",
   "id": "5907eafa",
   "metadata": {},
   "source": [
    " * string_obj.index(substring, start, end)"
   ]
  },
  {
   "cell_type": "code",
   "execution_count": 26,
   "id": "a9cbdec9",
   "metadata": {},
   "outputs": [
    {
     "name": "stdout",
     "output_type": "stream",
     "text": [
      "Help on method_descriptor:\n",
      "\n",
      "index(...)\n",
      "    S.index(sub[, start[, end]]) -> int\n",
      "    \n",
      "    Return the lowest index in S where substring sub is found,\n",
      "    such that sub is contained within S[start:end].  Optional\n",
      "    arguments start and end are interpreted as in slice notation.\n",
      "    \n",
      "    Raises ValueError when the substring is not found.\n",
      "\n"
     ]
    }
   ],
   "source": [
    "help(str.index)"
   ]
  },
  {
   "cell_type": "code",
   "execution_count": 34,
   "id": "11f1aed7",
   "metadata": {},
   "outputs": [
    {
     "name": "stdout",
     "output_type": "stream",
     "text": [
      "Virat\n"
     ]
    },
    {
     "data": {
      "text/plain": [
       "(3, 3)"
      ]
     },
     "execution_count": 34,
     "metadata": {},
     "output_type": "execute_result"
    }
   ],
   "source": [
    "y='Virat'\n",
    "print(y)\n",
    "y.find('a'),y.index('a')"
   ]
  },
  {
   "cell_type": "markdown",
   "id": "d736a792",
   "metadata": {},
   "source": [
    "# Rindex()"
   ]
  },
  {
   "cell_type": "markdown",
   "id": "59a15544",
   "metadata": {},
   "source": [
    "rindex() method returns the highest index of the substring inside the string if the substring is found. Otherwise, it raises ValueError."
   ]
  },
  {
   "cell_type": "markdown",
   "id": "7525190d",
   "metadata": {},
   "source": [
    "##### syntax"
   ]
  },
  {
   "cell_type": "markdown",
   "id": "91d657ad",
   "metadata": {},
   "source": [
    " * str.rindex(sub, start, end)"
   ]
  },
  {
   "cell_type": "code",
   "execution_count": 35,
   "id": "fd9946d5",
   "metadata": {},
   "outputs": [
    {
     "name": "stdout",
     "output_type": "stream",
     "text": [
      "Help on method_descriptor:\n",
      "\n",
      "rindex(...)\n",
      "    S.rindex(sub[, start[, end]]) -> int\n",
      "    \n",
      "    Return the highest index in S where substring sub is found,\n",
      "    such that sub is contained within S[start:end].  Optional\n",
      "    arguments start and end are interpreted as in slice notation.\n",
      "    \n",
      "    Raises ValueError when the substring is not found.\n",
      "\n"
     ]
    }
   ],
   "source": [
    "help(str.rindex)"
   ]
  },
  {
   "cell_type": "code",
   "execution_count": 38,
   "id": "8fe4cc90",
   "metadata": {},
   "outputs": [
    {
     "data": {
      "text/plain": [
       "3"
      ]
     },
     "execution_count": 38,
     "metadata": {},
     "output_type": "execute_result"
    }
   ],
   "source": [
    "y.rindex('a')"
   ]
  },
  {
   "cell_type": "markdown",
   "id": "b3a2d852",
   "metadata": {},
   "source": [
    "# Replace()"
   ]
  },
  {
   "cell_type": "markdown",
   "id": "7be8864b",
   "metadata": {},
   "source": [
    "replace() in Python returns a copy of the string where occurrences of a substring are replaced with another substring."
   ]
  },
  {
   "cell_type": "markdown",
   "id": "81aebf30",
   "metadata": {},
   "source": [
    "##### syntax"
   ]
  },
  {
   "cell_type": "markdown",
   "id": "b800842d",
   "metadata": {},
   "source": [
    "string.replace(old, new, count)"
   ]
  },
  {
   "cell_type": "code",
   "execution_count": 39,
   "id": "2cc5ca0c",
   "metadata": {},
   "outputs": [
    {
     "name": "stdout",
     "output_type": "stream",
     "text": [
      "Help on method_descriptor:\n",
      "\n",
      "replace(self, old, new, count=-1, /)\n",
      "    Return a copy with all occurrences of substring old replaced by new.\n",
      "    \n",
      "      count\n",
      "        Maximum number of occurrences to replace.\n",
      "        -1 (the default value) means replace all occurrences.\n",
      "    \n",
      "    If the optional argument count is given, only the first count occurrences are\n",
      "    replaced.\n",
      "\n"
     ]
    }
   ],
   "source": [
    "help(str.replace)"
   ]
  },
  {
   "cell_type": "code",
   "execution_count": 40,
   "id": "13c43e84",
   "metadata": {},
   "outputs": [
    {
     "data": {
      "text/plain": [
       "'VirAt'"
      ]
     },
     "execution_count": 40,
     "metadata": {},
     "output_type": "execute_result"
    }
   ],
   "source": [
    "y.replace('a','A')"
   ]
  },
  {
   "cell_type": "code",
   "execution_count": 41,
   "id": "70a00246",
   "metadata": {},
   "outputs": [
    {
     "data": {
      "text/plain": [
       "'VirAt'"
      ]
     },
     "execution_count": 41,
     "metadata": {},
     "output_type": "execute_result"
    }
   ],
   "source": [
    "y.replace('a','A',2)"
   ]
  },
  {
   "cell_type": "markdown",
   "id": "9d8f4ca3",
   "metadata": {},
   "source": [
    "# Split()"
   ]
  },
  {
   "cell_type": "markdown",
   "id": "f5a305f7",
   "metadata": {},
   "source": [
    "The split() method splits a string into a list."
   ]
  },
  {
   "cell_type": "markdown",
   "id": "e68c6a86",
   "metadata": {},
   "source": [
    "##### syntax"
   ]
  },
  {
   "cell_type": "markdown",
   "id": "ae036f08",
   "metadata": {},
   "source": [
    " * str.split(separator, maxsplit)"
   ]
  },
  {
   "cell_type": "code",
   "execution_count": 42,
   "id": "c3d10e36",
   "metadata": {},
   "outputs": [
    {
     "name": "stdout",
     "output_type": "stream",
     "text": [
      "Help on method_descriptor:\n",
      "\n",
      "split(self, /, sep=None, maxsplit=-1)\n",
      "    Return a list of the substrings in the string, using sep as the separator string.\n",
      "    \n",
      "      sep\n",
      "        The separator used to split the string.\n",
      "    \n",
      "        When set to None (the default value), will split on any whitespace\n",
      "        character (including \\\\n \\\\r \\\\t \\\\f and spaces) and will discard\n",
      "        empty strings from the result.\n",
      "      maxsplit\n",
      "        Maximum number of splits (starting from the left).\n",
      "        -1 (the default value) means no limit.\n",
      "    \n",
      "    Note, str.split() is mainly useful for data that has been intentionally\n",
      "    delimited.  With natural text that includes punctuation, consider using\n",
      "    the regular expression module.\n",
      "\n"
     ]
    }
   ],
   "source": [
    "help(str.split)"
   ]
  },
  {
   "cell_type": "code",
   "execution_count": 44,
   "id": "18330480",
   "metadata": {},
   "outputs": [
    {
     "data": {
      "text/plain": [
       "['Virat', 'Kohli', 'is', 'the', 'best', 'cricketer', 'in', 'this', 'world']"
      ]
     },
     "execution_count": 44,
     "metadata": {},
     "output_type": "execute_result"
    }
   ],
   "source": [
    "x.split()"
   ]
  },
  {
   "cell_type": "code",
   "execution_count": 45,
   "id": "79f89469",
   "metadata": {},
   "outputs": [
    {
     "data": {
      "text/plain": [
       "['Virat', 'Kohli', 'is', 'the', 'best', 'cricketer', 'in', 'this', 'world']"
      ]
     },
     "execution_count": 45,
     "metadata": {},
     "output_type": "execute_result"
    }
   ],
   "source": [
    "x.split(' ')"
   ]
  },
  {
   "cell_type": "markdown",
   "id": "317a3264",
   "metadata": {},
   "source": [
    "# Rsplit()"
   ]
  },
  {
   "cell_type": "markdown",
   "id": "28755229",
   "metadata": {},
   "source": [
    "The rsplit() method splits a string into a list, starting from the right."
   ]
  },
  {
   "cell_type": "markdown",
   "id": "900ea4ef",
   "metadata": {},
   "source": [
    "##### syntax"
   ]
  },
  {
   "cell_type": "markdown",
   "id": "06fd3e07",
   "metadata": {},
   "source": [
    "str.rsplit(separator, maxsplit)"
   ]
  },
  {
   "cell_type": "code",
   "execution_count": 46,
   "id": "b80a430e",
   "metadata": {},
   "outputs": [
    {
     "name": "stdout",
     "output_type": "stream",
     "text": [
      "Help on method_descriptor:\n",
      "\n",
      "rsplit(self, /, sep=None, maxsplit=-1)\n",
      "    Return a list of the substrings in the string, using sep as the separator string.\n",
      "    \n",
      "      sep\n",
      "        The separator used to split the string.\n",
      "    \n",
      "        When set to None (the default value), will split on any whitespace\n",
      "        character (including \\\\n \\\\r \\\\t \\\\f and spaces) and will discard\n",
      "        empty strings from the result.\n",
      "      maxsplit\n",
      "        Maximum number of splits (starting from the left).\n",
      "        -1 (the default value) means no limit.\n",
      "    \n",
      "    Splitting starts at the end of the string and works to the front.\n",
      "\n"
     ]
    }
   ],
   "source": [
    "help(str.rsplit)"
   ]
  },
  {
   "cell_type": "code",
   "execution_count": 53,
   "id": "ce52a5ba",
   "metadata": {},
   "outputs": [],
   "source": [
    "x = '''A spunky, chubby teenager with gelled hair shot to fame after leading India to glory in the Under-19 World Cup at Kuala Lumpur in early 2008. In an Indian team filled with saint-like icons worthy of their own hagiographies, Virat Kohli, with his most un-Indian, 'bad-boy' intensity, would clearly be an outcast.'''"
   ]
  },
  {
   "cell_type": "code",
   "execution_count": 54,
   "id": "79d52de5",
   "metadata": {},
   "outputs": [
    {
     "name": "stdout",
     "output_type": "stream",
     "text": [
      "['A', 'spunky,', 'chubby', 'teenager', 'with', 'gelled', 'hair', 'shot', 'to', 'fame', 'after', 'leading', 'India', 'to', 'glory', 'in', 'the', 'Under-19', 'World', 'Cup', 'at', 'Kuala', 'Lumpur', 'in', 'early', '2008.', 'In', 'an', 'Indian', 'team', 'filled', 'with', 'saint-like', 'icons', 'worthy', 'of', 'their', 'own', 'hagiographies,', 'Virat', 'Kohli,', 'with', 'his', 'most', 'un-Indian,', \"'bad-boy'\", 'intensity,', 'would', 'clearly', 'be', 'an', 'outcast.']\n"
     ]
    }
   ],
   "source": [
    "print(x.rsplit())"
   ]
  },
  {
   "cell_type": "code",
   "execution_count": 55,
   "id": "50c45ab6",
   "metadata": {},
   "outputs": [
    {
     "name": "stdout",
     "output_type": "stream",
     "text": [
      "True\n"
     ]
    }
   ],
   "source": [
    "ax = x.rsplit()\n",
    "bx = x.split()\n",
    "\n",
    "print(ax == bx)"
   ]
  },
  {
   "cell_type": "code",
   "execution_count": 56,
   "id": "c5a4e60a",
   "metadata": {},
   "outputs": [
    {
     "name": "stdout",
     "output_type": "stream",
     "text": [
      "[\"A spunky, chubby teenager with gelled hair shot to fame after leading India to glory in the Under-19 World Cup at Kuala Lumpur in early 2008. In an Indian team filled with saint-like icons worthy of their own hagiographies, Virat Kohli, with his most un-Indian, 'bad-boy' intensity, would\", 'clearly', 'be', 'an', 'outcast.']\n"
     ]
    }
   ],
   "source": [
    "print(x.rsplit(maxsplit = 4))"
   ]
  },
  {
   "cell_type": "code",
   "execution_count": 57,
   "id": "b33cd24b",
   "metadata": {},
   "outputs": [
    {
     "name": "stdout",
     "output_type": "stream",
     "text": [
      "['what is your', 'name', '?']\n"
     ]
    }
   ],
   "source": [
    "a = 'what is your name ?'.rsplit(maxsplit = 2)\n",
    "\n",
    "print(a)"
   ]
  },
  {
   "cell_type": "markdown",
   "id": "99dda895",
   "metadata": {},
   "source": [
    "# Partition()"
   ]
  },
  {
   "cell_type": "markdown",
   "id": "a1e7507e",
   "metadata": {},
   "source": [
    "The partition() method searches for a specified string, and splits the string into a tuple containing three elements.\n",
    "The first element contains the part before the specified string.\n",
    "The second element contains the specified string.\n",
    "The third element contains the part after the string."
   ]
  },
  {
   "cell_type": "markdown",
   "id": "d397b441",
   "metadata": {},
   "source": [
    "##### syntax"
   ]
  },
  {
   "cell_type": "markdown",
   "id": "0066aaaa",
   "metadata": {},
   "source": [
    "string.partition(separator)"
   ]
  },
  {
   "cell_type": "code",
   "execution_count": 58,
   "id": "d89c8692",
   "metadata": {},
   "outputs": [
    {
     "name": "stdout",
     "output_type": "stream",
     "text": [
      "Help on method_descriptor:\n",
      "\n",
      "partition(self, sep, /)\n",
      "    Partition the string into three parts using the given separator.\n",
      "    \n",
      "    This will search for the separator in the string.  If the separator is found,\n",
      "    returns a 3-tuple containing the part before the separator, the separator\n",
      "    itself, and the part after it.\n",
      "    \n",
      "    If the separator is not found, returns a 3-tuple containing the original string\n",
      "    and two empty strings.\n",
      "\n"
     ]
    }
   ],
   "source": [
    "help(str.partition)"
   ]
  },
  {
   "cell_type": "code",
   "execution_count": 59,
   "id": "b23f1d02",
   "metadata": {},
   "outputs": [
    {
     "data": {
      "text/plain": [
       "('A',\n",
       " ' ',\n",
       " \"spunky, chubby teenager with gelled hair shot to fame after leading India to glory in the Under-19 World Cup at Kuala Lumpur in early 2008. In an Indian team filled with saint-like icons worthy of their own hagiographies, Virat Kohli, with his most un-Indian, 'bad-boy' intensity, would clearly be an outcast.\")"
      ]
     },
     "execution_count": 59,
     "metadata": {},
     "output_type": "execute_result"
    }
   ],
   "source": [
    "x.partition(' ')"
   ]
  },
  {
   "cell_type": "code",
   "execution_count": 62,
   "id": "1659df17",
   "metadata": {},
   "outputs": [
    {
     "name": "stdout",
     "output_type": "stream",
     "text": [
      "('what', ' ', 'is your name ?')\n"
     ]
    }
   ],
   "source": [
    "a = 'what is your name ?'.partition(' ')\n",
    "print(a)"
   ]
  },
  {
   "cell_type": "markdown",
   "id": "214feeaf",
   "metadata": {},
   "source": [
    "# rpartition"
   ]
  },
  {
   "cell_type": "markdown",
   "id": "16564468",
   "metadata": {},
   "source": [
    "The rpartition() method searches for the last occurrence of a specified string, and splits the string into a tuple containing three elements.\n",
    "The first element contains the part before the specified string.\n",
    "The second element contains the specified string.\n",
    "The third element contains the part after the string."
   ]
  },
  {
   "cell_type": "markdown",
   "id": "96888e8b",
   "metadata": {},
   "source": [
    "##### syntax"
   ]
  },
  {
   "cell_type": "markdown",
   "id": "bf706607",
   "metadata": {},
   "source": [
    "string.rpartition(separator)"
   ]
  },
  {
   "cell_type": "code",
   "execution_count": 64,
   "id": "d1700932",
   "metadata": {},
   "outputs": [
    {
     "name": "stdout",
     "output_type": "stream",
     "text": [
      "Help on method_descriptor:\n",
      "\n",
      "rpartition(self, sep, /)\n",
      "    Partition the string into three parts using the given separator.\n",
      "    \n",
      "    This will search for the separator in the string, starting at the end. If\n",
      "    the separator is found, returns a 3-tuple containing the part before the\n",
      "    separator, the separator itself, and the part after it.\n",
      "    \n",
      "    If the separator is not found, returns a 3-tuple containing two empty strings\n",
      "    and the original string.\n",
      "\n"
     ]
    }
   ],
   "source": [
    "help(str.rpartition)"
   ]
  },
  {
   "cell_type": "code",
   "execution_count": 65,
   "id": "a6da8084",
   "metadata": {},
   "outputs": [
    {
     "name": "stdout",
     "output_type": "stream",
     "text": [
      "(\"A spunky, chubby teenager with gelled hair shot to fame after leading India to glory in the Under-19 World Cup at Kuala Lumpur in early 2008. In an Indian team filled with saint-like icons worthy of their own hagiographies, Virat Kohli, with his most un-Indian, 'bad-boy' intensity, would clearly be an\", ' ', 'outcast.')\n"
     ]
    }
   ],
   "source": [
    "print(x.rpartition(' '))"
   ]
  },
  {
   "cell_type": "code",
   "execution_count": 66,
   "id": "283405cf",
   "metadata": {},
   "outputs": [
    {
     "name": "stdout",
     "output_type": "stream",
     "text": [
      "('what is your name', ' ', '?')\n"
     ]
    }
   ],
   "source": [
    "a = 'what is your name ?'.rpartition(' ')\n",
    "print(a)"
   ]
  },
  {
   "cell_type": "markdown",
   "id": "6f4885b7",
   "metadata": {},
   "source": [
    "# Splitlines()"
   ]
  },
  {
   "cell_type": "markdown",
   "id": "0880be1f",
   "metadata": {},
   "source": [
    "The splitlines() method splits a string into a list. The splitting is done at line breaks."
   ]
  },
  {
   "cell_type": "markdown",
   "id": "e8794193",
   "metadata": {},
   "source": [
    "##### syntax"
   ]
  },
  {
   "cell_type": "markdown",
   "id": "037d1c94",
   "metadata": {},
   "source": [
    "string.splitlines(keepends)"
   ]
  },
  {
   "cell_type": "code",
   "execution_count": null,
   "id": "8d852957",
   "metadata": {},
   "outputs": [],
   "source": [
    "help(str.splitlines)"
   ]
  }
 ],
 "metadata": {
  "kernelspec": {
   "display_name": "Python 3 (ipykernel)",
   "language": "python",
   "name": "python3"
  },
  "language_info": {
   "codemirror_mode": {
    "name": "ipython",
    "version": 3
   },
   "file_extension": ".py",
   "mimetype": "text/x-python",
   "name": "python",
   "nbconvert_exporter": "python",
   "pygments_lexer": "ipython3",
   "version": "3.11.5"
  }
 },
 "nbformat": 4,
 "nbformat_minor": 5
}
